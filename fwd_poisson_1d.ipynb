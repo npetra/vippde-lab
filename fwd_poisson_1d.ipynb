{
 "cells": [
  {
   "cell_type": "markdown",
   "metadata": {},
   "source": [
    "# Solving Poisson Equation in 1D via FEM"
   ]
  },
  {
   "cell_type": "markdown",
   "metadata": {},
   "source": [
    "The goal of this notebook is to solve the boundary value problem (BVP) that has the form:\n",
    "\n",
    "$$\n",
    "\\left\\{\n",
    "\\begin{array}{ll}\n",
    "    - \\frac{d}{dx} \\left( k(x) \\frac{du(x)}{dx} \\right)\n",
    "    = f(x)  & \\text{in} \\; \\Omega, \\\\\n",
    "    u(x) = u_D & \\text{on} \\; \\Gamma_D, \\\\\n",
    "    k(x) \\frac{du(x)}{dx} n = g & \\text{on} \\; \\Gamma_N.\n",
    "\\end{array}\n",
    "\\right.\n",
    "$$\n",
    "Here, $\\Gamma_D \\subset \\Omega$ denotes the part of the boundary where we prescribe Dirichlet boundary conditions, and $\\Gamma_N \\subset \\Omega$ denotes the part of the boundary where we prescribe Neumann boundary conditions. $n$ is $-1$ at the left end and $1$ at the right end. \n",
    "\n",
    "__The weak form__ reads:\n",
    "\n",
    "Find $u \\in V_{u_D}$:\n",
    "$$ \\int_\\Omega k \\frac{du}{dx}\\frac{dv}{dx} \\, dx = \\int_\\Omega f\\,v \\, dx + \\int_{\\Gamma_N} g\\,v\\,ds, \\quad \\forall v \\in V_0 $$\n",
    "where\n",
    "$$\n",
    "\\begin{align}\n",
    "V_{u_D} &:= \\left\\{ v \\in H^1(\\Omega) \\, |\\, v = u_D \\text{ on } \\Gamma_D \\right\\},\\\\\n",
    "V_{0} &:= \\left\\{ v \\in H^1(\\Omega) \\, |\\, v = 0 \\text{ on } \\Gamma_D \\right\\}.\n",
    "\\end{align}\n",
    "$$\n",
    "\n",
    "To obtain the finite element discretization we then introduce a mesh $\\mathcal{T}_h$ of the domain $\\Omega$ and we define a finite dimensional subspace $V_h \\subset H^1(\\Omega)$ consisting of globally continuous functions that are piecewise polynomial on each element of $\\mathcal{T}_h$.\n",
    "\n",
    "By letting $V_{h, u_D} := \\{ v_h \\in V_h \\,|\\, v_h = u_D \\text{ on } \\Gamma_D\\}$ and $V_{h, 0} := \\{ v_h \\in V_h \\,|\\, v_h = 0 \\text{ on } \\Gamma_D\\}$, the finite element method then reads:\n",
    "\n",
    "Find $u_h \\in V_{h, u_D}$ such that:\n",
    "$$ \\int_\\Omega k\\frac{d u_h}{dx} \\frac{d v_h}{dx} \\, dx = \\int_\\Omega f\\,v_h \\, dx + \\int_{\\Gamma_N} g\\,v_h\\,ds, \\quad \\forall v_h \\in V_{h,0}. $$\n",
    "\n",
    "In this example, $\\Omega = [0,1], \\Gamma_D = \\{x | x = 0 \\; \\text{or} \\; x = 1\\}$, and $\\Gamma_N = \\emptyset$.\n",
    "We also assume that $k(x) = 1$, $f(x) = 1$, and the boundary conditions are zero Dirichlet (i.e. $u_D = 0$).\n",
    "The exact solution is $u(x) = 0.5x(1-x)$.\n",
    "\n",
    "Last update: Oct. 10, 2021\n",
    "\n",
    "Author: Noemi Petra (npetra@ucmerced.edu), modified by Ki-Tae Kim (kkim107@ucmerced.edu)"
   ]
  },
  {
   "cell_type": "markdown",
   "metadata": {},
   "source": [
    "## Import packages\n",
    "\n",
    "We import the following Python packages:\n",
    "\n",
    "- `dolfin` is the python interface to FEniCS (the computational backend of FEniCS).\n",
    "- `matplotlib` is a plotting library that produces figure similar to the Matlab ones.\n",
    "- `numpy` is the python fundamental package for scientific computing (multidimensional arrays, linear algebra, etc.)."
   ]
  },
  {
   "cell_type": "code",
   "execution_count": null,
   "metadata": {},
   "outputs": [],
   "source": [
    "import dolfin as dl\n",
    "import matplotlib.pyplot as plt\n",
    "%matplotlib inline\n",
    "import numpy as np"
   ]
  },
  {
   "cell_type": "markdown",
   "metadata": {},
   "source": [
    "## Create mesh and the finite element space\n",
    "\n",
    "We define a mesh of the unit interval $\\Omega = [0,1]$ with `n` elements. The mesh size $h$ is $\\frac{1}{n}$.\n",
    "\n",
    "We also define the finite element space $V_h \\in H^1(\\Omega)$ as the space of globally continuos functions that are piecewise polinomial (of degree $d$) on the elements of the mesh."
   ]
  },
  {
   "cell_type": "code",
   "execution_count": null,
   "metadata": {},
   "outputs": [],
   "source": [
    "# number of elements\n",
    "n = 4\n",
    "\n",
    "# degree of finite element basis functions\n",
    "# 1-represents piecewise linear basis functions\n",
    "# 2-represents piecewise quadratic basis functions\n",
    "d = 1\n",
    "\n",
    "# Create mesh and define function space\n",
    "mesh = dl.UnitIntervalMesh(n)\n",
    "\n",
    "# Define the function space\n",
    "Vh = dl.FunctionSpace(mesh, 'Lagrange', d)\n",
    "\n",
    "# Define the exact solution\n",
    "u_true = dl.Expression('0.5*x[0]*(1.0-x[0])', degree=2)\n",
    "\n",
    "# Show the mesh\n",
    "dl.plot(mesh)\n",
    "plt.show()"
   ]
  },
  {
   "cell_type": "markdown",
   "metadata": {},
   "source": [
    "## Define the Dirichlet boundary condition\n",
    "\n",
    "We define the Dirichlet boundary condition $u(0) = u(1) = 0$."
   ]
  },
  {
   "cell_type": "code",
   "execution_count": null,
   "metadata": {},
   "outputs": [],
   "source": [
    "# set the boundary conditions\n",
    "# ud - instance holding the ud values\n",
    "# ud_boundary - is a function describing whether a point lies on the\n",
    "# boundary where u is specified; this returns a boolean value:\n",
    "# True if x is on the Dirichlet boundary and False otherwise\n",
    "def ud_boundary(x, on_boundary):\n",
    "    return on_boundary\n",
    "\n",
    "# Define boundary conditions\n",
    "ud = dl.Constant('0.0')\n",
    "bc = dl.DirichletBC(Vh, ud, ud_boundary)"
   ]
  },
  {
   "cell_type": "markdown",
   "metadata": {},
   "source": [
    "## Define the variational problem\n",
    "\n",
    "We write the variational problem $a(u_h, v_h) = L(v_h)$. Here, the bilinear form $a$ and the linear form $L$ are defined as\n",
    "\n",
    "- $a(u_h, v_h) := \\int_\\Omega k\\frac{d u_h}{dx} \\frac{d v_h}{dx} \\, dx$\n",
    "- $L(v_h) := \\int_\\Omega f v_h \\, dx + \\int_{\\Gamma_N} g \\, v_h \\, dx$.\n",
    "\n",
    "$u_h$ denotes the trial function and $v_h$ denotes the test function."
   ]
  },
  {
   "cell_type": "code",
   "execution_count": null,
   "metadata": {},
   "outputs": [],
   "source": [
    "# Define variational problem\n",
    "uh = dl.TrialFunction(Vh)\n",
    "vh = dl.TestFunction(Vh)\n",
    "f = dl.Constant(1.0)\n",
    "a = dl.inner(dl.grad(uh), dl.grad(vh))*dl.dx\n",
    "L = f*vh*dl.dx"
   ]
  },
  {
   "cell_type": "markdown",
   "metadata": {},
   "source": [
    "## Assemble and solve the linear system\n",
    "\n",
    "We now assemble the finite element stiffness matrix $A$ and the right hand side vector $b$. Dirichlet boundary conditions are applied at the end of the finite element assembly procedure and before solving the resulting linear system of equations."
   ]
  },
  {
   "cell_type": "code",
   "execution_count": null,
   "metadata": {},
   "outputs": [],
   "source": [
    "# represents uh as a function in a finite element function space Vh\n",
    "uh = dl.Function(Vh)\n",
    "\n",
    "# assemble system\n",
    "A, b = dl.assemble_system(a, L, bc)\n",
    "if mesh.num_cells() < 8: # print for small meshes only\n",
    "    print(A.array())      # be careful with the identation!\n",
    "    print(b.get_local())\n",
    "    \n",
    "# solve the linear system\n",
    "dl.solve(A, uh.vector(), b)\n",
    "\n",
    "# alternatively you can also (assemble + solve)\n",
    "# dl.solve(a == L, uh, bc)"
   ]
  },
  {
   "cell_type": "code",
   "execution_count": null,
   "metadata": {},
   "outputs": [],
   "source": [
    "# Plot solution\n",
    "dl.plot(uh)\n",
    "\n",
    "xtemp = np.linspace(0,1,100)\n",
    "uexact = 0.5*xtemp*(1-xtemp)\n",
    "plt.plot(xtemp, uexact)\n",
    "\n",
    "plt.legend(['fe solution', 'exact'])\n",
    "plt.xlabel('x')\n",
    "plt.ylabel('u(x)')\n",
    "plt.show()"
   ]
  },
  {
   "cell_type": "markdown",
   "metadata": {},
   "source": [
    "## Compute error norm\n",
    "\n",
    "We then compute the $L^2(\\Omega)$ norm of the difference between the exact solution and the finite element approximation:\n",
    "$\n",
    "\\sqrt{\\int_\\Omega (u_{exact} - u_h)^2 dx}.\n",
    "$"
   ]
  },
  {
   "cell_type": "code",
   "execution_count": null,
   "metadata": {},
   "outputs": [],
   "source": [
    "# Compute error in L2 norm\n",
    "error_L2 = dl.errornorm(u_true, uh, 'L2')\n",
    "\n",
    "# Print errors\n",
    "print('error_L2  =', error_L2)"
   ]
  }
 ],
 "metadata": {
  "kernelspec": {
   "display_name": "Python 3",
   "language": "python",
   "name": "python3"
  },
  "language_info": {
   "codemirror_mode": {
    "name": "ipython",
    "version": 3
   },
   "file_extension": ".py",
   "mimetype": "text/x-python",
   "name": "python",
   "nbconvert_exporter": "python",
   "pygments_lexer": "ipython3",
   "version": "3.8.6"
  }
 },
 "nbformat": 4,
 "nbformat_minor": 5
}
